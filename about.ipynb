{
  "cells": [
    {
      "cell_type": "raw",
      "metadata": {},
      "source": [
        "---\n",
        "title: About\n",
        "---"
      ],
      "id": "324deb7b"
    },
    {
      "cell_type": "markdown",
      "metadata": {},
      "source": [
        "About this site\n"
      ],
      "id": "61e5bc5d"
    },
    {
      "cell_type": "code",
      "metadata": {},
      "source": [
        "import pandas as pd\n",
        "df=pd.read_csv('crime.csv',encoding='EUC-KR')\n",
        "df"
      ],
      "id": "39337977",
      "execution_count": null,
      "outputs": []
    }
  ],
  "metadata": {
    "kernelspec": {
      "display_name": "Python 3",
      "language": "python",
      "name": "python3"
    }
  },
  "nbformat": 4,
  "nbformat_minor": 5
}